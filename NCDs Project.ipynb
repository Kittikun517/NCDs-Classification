{
 "cells": [
  {
   "cell_type": "code",
   "execution_count": 1,
   "metadata": {},
   "outputs": [],
   "source": [
    "# !pip install cutkum\n",
    "# !pip install tensorflow\n",
    "# !pip install keras\n",
    "# !pip install deepcut\n",
    "# !pip install xgboost\n",
    "# !pip install Pipeline\n",
    "\n",
    "import pandas as pd\n",
    "import numpy as np\n",
    "import warnings\n",
    "import deepcut\n",
    "\n",
    "from sklearn.model_selection import GridSearchCV, train_test_split\n",
    "from xgboost import XGBClassifier, plot_importance\n",
    "from sklearn.metrics import classification_report\n",
    "from sklearn.compose import ColumnTransformer\n",
    "from sklearn.feature_selection import VarianceThreshold\n",
    "from sklearn.impute import KNNImputer, SimpleImputer\n",
    "from sklearn.naive_bayes import MultinomialNB\n",
    "from sklearn.pipeline import Pipeline\n",
    "from sklearn.preprocessing import OrdinalEncoder, StandardScaler\n",
    "from sklearn.tree import DecisionTreeClassifier\n",
    "\n",
    "warnings.filterwarnings(\"ignore\")\n",
    "pd.set_option('display.max_columns', None)\n",
    "pd.set_option('display.max_rows', None)"
   ]
  },
  {
   "cell_type": "code",
   "execution_count": 2,
   "metadata": {
    "scrolled": true
   },
   "outputs": [],
   "source": [
    "df = pd.read_excel ('E:\\--- Job ---\\--- งานนอก ---\\อาจารย์พิมผกา (STATS)\\Data\\ex_df.xlsx', sheet_name=\"Sheet1\")\n",
    "\n",
    "df['Subject_ID'] = df['HN']"
   ]
  },
  {
   "cell_type": "code",
   "execution_count": 3,
   "metadata": {
    "scrolled": true
   },
   "outputs": [
    {
     "data": {
      "text/plain": [
       "41     649131.0\n",
       "42     649131.0\n",
       "67     647655.0\n",
       "68     647655.0\n",
       "69     647655.0\n",
       "70     647655.0\n",
       "74     129483.0\n",
       "100    121410.0\n",
       "108     14413.0\n",
       "109     14413.0\n",
       "124     65555.0\n",
       "129    342992.0\n",
       "149    648773.0\n",
       "157    301633.0\n",
       "170    535807.0\n",
       "172     38608.0\n",
       "173     38608.0\n",
       "186     66071.0\n",
       "192     15439.0\n",
       "219    642321.0\n",
       "236     46244.0\n",
       "241    461995.0\n",
       "246     66956.0\n",
       "248    491497.0\n",
       "271     99104.0\n",
       "273    571589.0\n",
       "314    266280.0\n",
       "339    109588.0\n",
       "380    649696.0\n",
       "Name: Subject_ID, dtype: float64"
      ]
     },
     "execution_count": 3,
     "metadata": {},
     "output_type": "execute_result"
    }
   ],
   "source": [
    "duplicate = df['Subject_ID'][df['Subject_ID'].duplicated()]\n",
    "\n",
    "duplicate"
   ]
  },
  {
   "cell_type": "markdown",
   "metadata": {},
   "source": [
    "# DATA EXTRACTION"
   ]
  },
  {
   "cell_type": "code",
   "execution_count": 4,
   "metadata": {},
   "outputs": [],
   "source": [
    "# Personal Columns\n",
    "df_personal = df[['Subject_ID', 'SEX_x', 'AGE']]\n",
    "\n",
    "# ICD-10 Columns\n",
    "df_icd10 = df[df.columns[np.r_[1, 208:422, 1288]]]\n",
    "\n",
    "# DX Columns\n",
    "df_dx = df[df.columns[np.r_[1, 33:45, 1288]]]\n",
    "\n",
    "# Lab Columns\n",
    "df_lab = df[df.columns[np.r_[1, 49:206, 1288]]]\n",
    "\n",
    "# Drug\n",
    "df_drug = df[df.columns[np.r_[1, 884:1256, 1288]]]\n",
    "\n",
    "# Drug Details\n",
    "df_drug_detail = df[df.columns[np.r_[1, 422:883, 1288]]]\n",
    "\n",
    "# Clinic\n",
    "df_clinic = df[['Subject_ID', 'Temp', 'Pulse', 'RR', 'O2Sat', 'Body Weight', 'Height', 'BMI', 'sbp1', 'dbp1', 'sbp2', 'dbp2']]\n",
    "\n",
    "# Label\n",
    "df_label = df[['Subject_ID', 'DM_label', 'HTN_label' ,'CKD_label', 'DLP_label']]"
   ]
  },
  {
   "cell_type": "markdown",
   "metadata": {},
   "source": [
    "# DATA CLEANSING"
   ]
  },
  {
   "cell_type": "code",
   "execution_count": 5,
   "metadata": {},
   "outputs": [],
   "source": [
    "df_report = pd.DataFrame(columns=['group', 'row', 'duplicated', 'subject id', 'new row'])"
   ]
  },
  {
   "cell_type": "markdown",
   "metadata": {},
   "source": [
    "### Personal  "
   ]
  },
  {
   "cell_type": "code",
   "execution_count": 6,
   "metadata": {
    "scrolled": false
   },
   "outputs": [],
   "source": [
    "# Personal Columns\n",
    "\n",
    "# Check dupliated data\n",
    "df_personal_dup = df_personal[df_personal.duplicated()]\n",
    "id_dup = df_personal_dup['Subject_ID'].drop_duplicates().values\n",
    "\n",
    "\n",
    "# Drop duplicated data\n",
    "df_personal_nodup = df_personal.drop_duplicates()\n",
    "\n",
    "\n",
    "# Make a report\n",
    "personal_report = ['Personal', df_personal.shape[0], df_personal_dup.shape[0], id_dup, df_personal_nodup.shape[0]]\n",
    "df_personal_report = pd.Series(personal_report, index = df_report.columns)"
   ]
  },
  {
   "cell_type": "markdown",
   "metadata": {},
   "source": [
    "### ICD-10"
   ]
  },
  {
   "cell_type": "code",
   "execution_count": 7,
   "metadata": {},
   "outputs": [],
   "source": [
    "# ICD-10 Columns\n",
    "\n",
    "# Fill NaN with 0\n",
    "df_icd10.fillna(0, inplace=True)\n",
    "\n",
    "# Check dupliated data\n",
    "df_icd10_dup = df_icd10[df_icd10.duplicated()]\n",
    "id_dup = df_icd10_dup['Subject_ID'].drop_duplicates().values\n",
    "\n",
    "# Drop duplicated data\n",
    "df_icd10_nodup = df_icd10.drop_duplicates()\n",
    "\n",
    "# Get all columns name\n",
    "variable = list(df_icd10.columns)\n",
    "variable.remove('Subject_ID')\n",
    "\n",
    "# Get MAX values all column with duplicated Subject_ID\n",
    "df_icd10_nodup = df_icd10.groupby(['Subject_ID'])[variable].agg('max').reset_index()\n",
    "\n",
    "# Make a report\n",
    "icd10_report = ['ICD-10', df_icd10.shape[0], df_icd10_dup.shape[0], id_dup, df_icd10_nodup.shape[0]]\n",
    "df_icd10_report = pd.Series(icd10_report, index = df_report.columns)"
   ]
  },
  {
   "cell_type": "markdown",
   "metadata": {},
   "source": [
    "### Drug  "
   ]
  },
  {
   "cell_type": "code",
   "execution_count": 8,
   "metadata": {},
   "outputs": [],
   "source": [
    "# Fill NaN with 0\n",
    "df_drug.fillna(0, inplace=True)\n",
    "\n",
    "# Check dupliated data\n",
    "df_drug_dup = df_drug[df_drug.duplicated()]\n",
    "id_dup = df_drug_dup['Subject_ID'].drop_duplicates().values\n",
    "\n",
    "# Drop duplicated data\n",
    "df_drug_nodup = df_drug.drop_duplicates()\n",
    "\n",
    "# Get all columns name\n",
    "variable = list(df_drug.columns)\n",
    "variable.remove('Subject_ID')\n",
    "\n",
    "# Get MAX values all column with duplicated Subject_ID\n",
    "df_drug_nodup = df_drug.groupby(['Subject_ID'])[variable].agg('max').reset_index()\n",
    "\n",
    "# Make a report\n",
    "drug_report = ['Drug', df_drug.shape[0], df_drug_dup.shape[0], id_dup, df_drug_nodup.shape[0]]\n",
    "df_drug_report = pd.Series(drug_report, index = df_report.columns)"
   ]
  },
  {
   "cell_type": "code",
   "execution_count": 9,
   "metadata": {},
   "outputs": [],
   "source": [
    "# Drug Details\n",
    "\n",
    "# Fill NaN with 0\n",
    "df_drug_detail.fillna(0, inplace=True)\n",
    "\n",
    "# Check dupliated data\n",
    "df_drug_detail_dup = df_drug_detail[df_drug_detail.duplicated()]\n",
    "id_dup = df_drug_detail_dup['Subject_ID'].drop_duplicates().values\n",
    "\n",
    "# Drop duplicated data\n",
    "df_drug_detail_nodup = df_drug_detail.drop_duplicates()\n",
    "\n",
    "# Get all columns name\n",
    "variable = list(df_drug_detail.columns)\n",
    "variable.remove('Subject_ID')\n",
    "\n",
    "# Get MAX values all column with duplicated Subject_ID\n",
    "df_drug_detail_nodup = df_drug_detail.groupby(['Subject_ID'])[variable].agg('max').reset_index()\n",
    "\n",
    "# Make a report\n",
    "drug_detail_report = ['Drug Details', df_drug_detail.shape[0], df_drug_detail_dup.shape[0], id_dup, df_drug_detail_nodup.shape[0]]\n",
    "df_drug_detail_report = pd.Series(drug_detail_report, index = df_report.columns)"
   ]
  },
  {
   "cell_type": "markdown",
   "metadata": {},
   "source": [
    "### Clinic"
   ]
  },
  {
   "cell_type": "code",
   "execution_count": 10,
   "metadata": {},
   "outputs": [],
   "source": [
    "# Clinic\n",
    "\n",
    "# Fill 0 with NaN\n",
    "df_clinic.replace(0, np.nan, inplace=True)\n",
    "\n",
    "# Check dupliated data\n",
    "df_clinic_dup = df_clinic[df_clinic.duplicated()]\n",
    "id_dup = df_clinic_dup['Subject_ID'].drop_duplicates().values\n",
    "\n",
    "# Get all columns name\n",
    "variable = list(df_clinic.columns)\n",
    "variable.remove('Subject_ID')\n",
    "\n",
    "# Get MAX values all column with duplicated Subject_ID\n",
    "df_clinic_groupby = df_clinic.groupby(['Subject_ID'])[variable].agg('max').reset_index()\n",
    "\n",
    "# Drop duplicated data\n",
    "df_clinic_nodup = df_clinic_groupby.drop_duplicates()\n",
    "df_clinic_nodup.replace(0, np.nan, inplace=True)\n",
    "\n",
    "# Get last BP\n",
    "df_clinic_nodup['sbp'] = np.where(df_clinic_nodup['sbp2'].isnull(), df_clinic_nodup['sbp1'], df_clinic_nodup['sbp2'])\n",
    "df_clinic_nodup['dbp'] = np.where(df_clinic_nodup['dbp2'].isnull(), df_clinic_nodup['dbp1'], df_clinic_nodup['dbp2'])\n",
    "\n",
    "del df_clinic_nodup['sbp1']\n",
    "del df_clinic_nodup['dbp1']\n",
    "del df_clinic_nodup['sbp2']\n",
    "del df_clinic_nodup['dbp2']\n",
    "\n",
    "# Make a report\n",
    "clinic_report = ['Clinic', df_clinic.shape[0], df_clinic_dup.shape[0], id_dup, df_clinic_nodup.shape[0]]\n",
    "df_clinic_report = pd.Series(clinic_report, index = df_report.columns)"
   ]
  },
  {
   "cell_type": "markdown",
   "metadata": {},
   "source": [
    "### Lab"
   ]
  },
  {
   "cell_type": "code",
   "execution_count": 11,
   "metadata": {
    "scrolled": true
   },
   "outputs": [],
   "source": [
    "def remove_repeated(x):\n",
    "    if isinstance(x, str): \n",
    "        return int(x.rstrip('  (Repeated)'))\n",
    "    else:\n",
    "        return x\n",
    "\n",
    "df_lab['AST'] = df_lab['AST'].map(remove_repeated)\n",
    "df_lab.replace(\"Negative\", 0, inplace=True)\n",
    "df_lab.replace(\"2+\", 2, inplace=True)\n",
    "df_lab.replace(\"Adequate\", 0, inplace=True)\n",
    "df_lab.replace(\"Adequate (with Giant platelets)\", 0, inplace=True)\n",
    "df_lab.replace(\"Increase\", 1, inplace=True)\n",
    "df_lab.replace(\"Trace\", 0, inplace=True)\n",
    "df_lab.replace(\"Yellow\", 0, inplace=True)\n",
    "df_lab.replace(\"Pale yellow\", 1, inplace=True)\n",
    "df_lab.replace(\"Clear\", 0, inplace=True)\n",
    "df_lab.replace(\"Rare\", 0, inplace=True)\n",
    "df_lab.replace(\"Few\", 1, inplace=True)\n",
    "df_lab.replace(\"Moderate\", 2, inplace=True)\n",
    "df_lab.replace(\"0-1\", 0, inplace=True)"
   ]
  },
  {
   "cell_type": "code",
   "execution_count": 12,
   "metadata": {},
   "outputs": [],
   "source": [
    "important_lab = ['Subject_ID',\n",
    "                 'Glucose',\n",
    "                 'Glycohemoglobin (HbA1c)',\n",
    "                 'eGFR',\n",
    "                 'Creatinine',\n",
    "                 'BUN',\n",
    "                 'Albumin',\n",
    "                 'Uric Acid',\n",
    "                 'Total Protein',\n",
    "                 'Cholesterol',\n",
    "                 'Triglyceride',\n",
    "                 'HDL-c',\n",
    "                 'LDL-c']\n",
    "\n",
    "df_lab = df_lab[important_lab]"
   ]
  },
  {
   "cell_type": "code",
   "execution_count": 13,
   "metadata": {},
   "outputs": [],
   "source": [
    "# Check dupliated data\n",
    "df_lab_dup = df_lab[df_lab.duplicated()]\n",
    "id_dup = df_lab_dup['Subject_ID'].drop_duplicates().values\n",
    "\n",
    "# Drop duplicated data\n",
    "df_lab_nodup = df_lab.drop_duplicates()\n",
    "\n",
    "# Get all columns name\n",
    "variable = list(df_lab.columns)\n",
    "variable.remove('Subject_ID')\n",
    "\n",
    "# Get MAX values all column with duplicated Subject_ID\n",
    "df_lab_nodup = df_lab.groupby(['Subject_ID'])[variable].agg('max').reset_index()\n",
    "\n",
    "# Make a report\n",
    "lab_report = ['Lab', df_lab.shape[0], df_lab_dup.shape[0], id_dup, df_lab_nodup.shape[0]]\n",
    "df_lab_report = pd.Series(lab_report, index = df_report.columns)"
   ]
  },
  {
   "cell_type": "markdown",
   "metadata": {},
   "source": [
    "### Label"
   ]
  },
  {
   "cell_type": "code",
   "execution_count": 14,
   "metadata": {},
   "outputs": [],
   "source": [
    "# Check dupliated data\n",
    "df_label_dup = df_label[df_label.duplicated()]\n",
    "id_dup = df_label_dup['Subject_ID'].drop_duplicates().values\n",
    "\n",
    "# Get all columns name\n",
    "variable = list(df_label.columns)\n",
    "variable.remove('Subject_ID')\n",
    "\n",
    "# Get MAX values all column with duplicated Subject_ID\n",
    "df_label_groupby = df_label.groupby(['Subject_ID'])[variable].agg('max').reset_index()\n",
    "\n",
    "# Drop duplicated data\n",
    "df_label_nodup = df_label_groupby.drop_duplicates()\n",
    "\n",
    "# Make a report\n",
    "label_report = ['Label', df_label.shape[0], df_label_dup.shape[0], id_dup, df_label_nodup.shape[0]]\n",
    "df_label_report = pd.Series(label_report, index = df_report.columns)"
   ]
  },
  {
   "cell_type": "markdown",
   "metadata": {},
   "source": [
    "## Report  "
   ]
  },
  {
   "cell_type": "code",
   "execution_count": 15,
   "metadata": {},
   "outputs": [
    {
     "data": {
      "text/html": [
       "<div>\n",
       "<style scoped>\n",
       "    .dataframe tbody tr th:only-of-type {\n",
       "        vertical-align: middle;\n",
       "    }\n",
       "\n",
       "    .dataframe tbody tr th {\n",
       "        vertical-align: top;\n",
       "    }\n",
       "\n",
       "    .dataframe thead th {\n",
       "        text-align: right;\n",
       "    }\n",
       "</style>\n",
       "<table border=\"1\" class=\"dataframe\">\n",
       "  <thead>\n",
       "    <tr style=\"text-align: right;\">\n",
       "      <th></th>\n",
       "      <th>group</th>\n",
       "      <th>row</th>\n",
       "      <th>duplicated</th>\n",
       "      <th>subject id</th>\n",
       "      <th>new row</th>\n",
       "    </tr>\n",
       "  </thead>\n",
       "  <tbody>\n",
       "    <tr>\n",
       "      <th>0</th>\n",
       "      <td>Personal</td>\n",
       "      <td>428</td>\n",
       "      <td>29</td>\n",
       "      <td>[649131.0, 647655.0, 129483.0, 121410.0, 14413...</td>\n",
       "      <td>399</td>\n",
       "    </tr>\n",
       "    <tr>\n",
       "      <th>1</th>\n",
       "      <td>ICD-10</td>\n",
       "      <td>428</td>\n",
       "      <td>16</td>\n",
       "      <td>[649131.0, 647655.0, 14413.0, 65555.0, 342992....</td>\n",
       "      <td>399</td>\n",
       "    </tr>\n",
       "    <tr>\n",
       "      <th>2</th>\n",
       "      <td>Drug</td>\n",
       "      <td>428</td>\n",
       "      <td>9</td>\n",
       "      <td>[647655.0, 14413.0, 342992.0, 535807.0, 66071....</td>\n",
       "      <td>399</td>\n",
       "    </tr>\n",
       "    <tr>\n",
       "      <th>3</th>\n",
       "      <td>Drug Details</td>\n",
       "      <td>428</td>\n",
       "      <td>6</td>\n",
       "      <td>[647655.0, 14413.0, 342992.0, 642321.0, 461995.0]</td>\n",
       "      <td>399</td>\n",
       "    </tr>\n",
       "    <tr>\n",
       "      <th>4</th>\n",
       "      <td>Clinic</td>\n",
       "      <td>428</td>\n",
       "      <td>14</td>\n",
       "      <td>[649131.0, 647655.0, 14413.0, 342992.0, 38608....</td>\n",
       "      <td>398</td>\n",
       "    </tr>\n",
       "    <tr>\n",
       "      <th>5</th>\n",
       "      <td>Lab</td>\n",
       "      <td>428</td>\n",
       "      <td>12</td>\n",
       "      <td>[649131.0, 647655.0, 129483.0, 14413.0, 342992...</td>\n",
       "      <td>398</td>\n",
       "    </tr>\n",
       "    <tr>\n",
       "      <th>6</th>\n",
       "      <td>Label</td>\n",
       "      <td>428</td>\n",
       "      <td>19</td>\n",
       "      <td>[647655.0, 129483.0, 14413.0, 65555.0, 342992....</td>\n",
       "      <td>398</td>\n",
       "    </tr>\n",
       "  </tbody>\n",
       "</table>\n",
       "</div>"
      ],
      "text/plain": [
       "          group  row duplicated  \\\n",
       "0      Personal  428         29   \n",
       "1        ICD-10  428         16   \n",
       "2          Drug  428          9   \n",
       "3  Drug Details  428          6   \n",
       "4        Clinic  428         14   \n",
       "5           Lab  428         12   \n",
       "6         Label  428         19   \n",
       "\n",
       "                                          subject id new row  \n",
       "0  [649131.0, 647655.0, 129483.0, 121410.0, 14413...     399  \n",
       "1  [649131.0, 647655.0, 14413.0, 65555.0, 342992....     399  \n",
       "2  [647655.0, 14413.0, 342992.0, 535807.0, 66071....     399  \n",
       "3  [647655.0, 14413.0, 342992.0, 642321.0, 461995.0]     399  \n",
       "4  [649131.0, 647655.0, 14413.0, 342992.0, 38608....     398  \n",
       "5  [649131.0, 647655.0, 129483.0, 14413.0, 342992...     398  \n",
       "6  [647655.0, 129483.0, 14413.0, 65555.0, 342992....     398  "
      ]
     },
     "execution_count": 15,
     "metadata": {},
     "output_type": "execute_result"
    }
   ],
   "source": [
    "df_report = df_report.append([df_personal_report, \n",
    "                              df_icd10_report, \n",
    "                              df_drug_report, \n",
    "                              df_drug_detail_report, \n",
    "                              df_clinic_report,\n",
    "                              df_lab_report,\n",
    "                              df_label_report\n",
    "                             ])\n",
    "\n",
    "df_report"
   ]
  },
  {
   "cell_type": "markdown",
   "metadata": {},
   "source": [
    "# Text Analysis"
   ]
  },
  {
   "cell_type": "markdown",
   "metadata": {},
   "source": [
    "## Doctor Chifef Complaint"
   ]
  },
  {
   "cell_type": "code",
   "execution_count": 16,
   "metadata": {
    "scrolled": true
   },
   "outputs": [],
   "source": [
    "df_doc_cc = df[['Subject_ID', 'Chifef Complaint', 'Present Illness', 'Medical Note']]\n",
    "\n",
    "df_doc_cc[\"Doc CC\"] = df_doc_cc[\"Chifef Complaint\"].map(str) + \" \" + df_doc_cc[\"Present Illness\"] + \" \" + df_doc_cc[\"Medical Note\"].map(str)\n",
    "\n",
    "df_doc_cc = df_doc_cc[['Subject_ID','Doc CC']]\n",
    "\n",
    "df_doc_cc['Doc CC'] = df_doc_cc['Doc CC'].astype(str)\n",
    "\n",
    "df_doc_cc_nodup = df_doc_cc.groupby(['Subject_ID']).agg({'Doc CC': ' '.join}).reset_index()\n",
    "\n",
    "df_doc_cc_nodup['Doc CC'] = df_doc_cc_nodup['Doc CC'].str.lower()"
   ]
  },
  {
   "cell_type": "code",
   "execution_count": 17,
   "metadata": {},
   "outputs": [],
   "source": [
    "keyword_list = ['DM', 'CKD', 'CPK', 'WNL', 'HT', 'HTN', 'DLP', 'CVD', 'TB', 'PID',\n",
    "                'UTI', 'ARF', 'CRF', 'ESRD', 'ATN', 'ALS', 'CVA', 'ARF', 'CRF', 'T1DM', 'T2DM',\n",
    "                'diabetes', 'high blood pressure', 'hypertension', 'obesity', 'statin', \n",
    "                'thyroid', 'thyrotoxicosis',\n",
    "                'hypothyroid', 'hypoglycemia', 'hypogonadism', 'kidney stone', 'bisoprolol', 'thalassemia',\n",
    "                'hypothyroidism', 'IGT', 'IFG', 'DYSLIPID']\n",
    "\n",
    "keyword_list_lower = list(map(lambda x: x.lower(), keyword_list))\n",
    "\n",
    "\n",
    "df_doc_cc_nodup['Doc CC List'] = \"\"\n",
    "\n",
    "for key in keyword_list_lower:\n",
    "    df_doc_cc_nodup[key+\"_key\"] = \"\"\n",
    "\n",
    "\n",
    "for i in range (len(df_doc_cc_nodup)):\n",
    "    \n",
    "    df_doc_cc_nodup['Doc CC List'][i] = deepcut.tokenize(df_doc_cc_nodup['Doc CC'][i])\n",
    "    \n",
    "    # Remove \" \" in list\n",
    "    df_doc_cc_nodup['Doc CC List'][i] = [ele for ele in df_doc_cc_nodup['Doc CC List'][i] if ele.strip()]\n",
    "    \n",
    "    # Remove nan in list\n",
    "    df_doc_cc_nodup['Doc CC List'][i] = [v1 for v1 in df_doc_cc_nodup['Doc CC List'][i] if v1 != 'nan']\n",
    "    \n",
    "    \n",
    "    for key in keyword_list_lower:\n",
    "        \n",
    "        df_doc_cc_nodup[key+\"_key\"][i] = np.where(len([ele for ele in df_doc_cc_nodup['Doc CC List'][i] if ele == key]) == 0, 0, 1)\n",
    "\n",
    "del df_doc_cc_nodup['Doc CC']\n",
    "del df_doc_cc_nodup['Doc CC List']\n",
    "\n",
    "df_doc_cc_nodup = df_doc_cc_nodup.astype(int)"
   ]
  },
  {
   "cell_type": "markdown",
   "metadata": {},
   "source": [
    "## Nurse Chifef Complaint"
   ]
  },
  {
   "cell_type": "code",
   "execution_count": 18,
   "metadata": {},
   "outputs": [],
   "source": [
    "df_nurse_cc = df[['Subject_ID', 'Nurse Chief Complaint', 'Nurse Present Illness']]\n",
    "\n",
    "df_nurse_cc[\"Nurse CC\"] = df_nurse_cc[\"Nurse Chief Complaint\"].map(str) + \" \" + df_nurse_cc[\"Nurse Present Illness\"].map(str)\n",
    "\n",
    "df_nurse_cc = df_nurse_cc[['Subject_ID','Nurse CC']]\n",
    "\n",
    "df_nurse_cc['Nurse CC'] = df_nurse_cc['Nurse CC'].astype(str)\n",
    "\n",
    "df_nurse_cc_nodup = df_nurse_cc.groupby(['Subject_ID']).agg({'Nurse CC': ' '.join}).reset_index()"
   ]
  },
  {
   "cell_type": "code",
   "execution_count": 19,
   "metadata": {},
   "outputs": [],
   "source": [
    "df_nurse_cc_nodup['Nurse CC List'] = \"\"\n",
    "\n",
    "for i in range (len(df_nurse_cc_nodup)):\n",
    "    \n",
    "    df_nurse_cc_nodup['Nurse CC List'][i] = deepcut.tokenize(df_nurse_cc_nodup['Nurse CC'][i])\n",
    "    \n",
    "    # Remove \" \" in list\n",
    "    df_nurse_cc_nodup['Nurse CC List'][i] = [ele for ele in df_nurse_cc_nodup['Nurse CC List'][i] if ele.strip()]\n",
    "    \n",
    "    # Remove nan in list\n",
    "    df_nurse_cc_nodup['Nurse CC List'][i] = [x for x in df_nurse_cc_nodup['Nurse CC List'][i] if x != 'nan']"
   ]
  },
  {
   "cell_type": "markdown",
   "metadata": {},
   "source": [
    "# DATA MERGING"
   ]
  },
  {
   "cell_type": "code",
   "execution_count": 20,
   "metadata": {
    "scrolled": true
   },
   "outputs": [
    {
     "data": {
      "text/plain": [
       "(398, 651)"
      ]
     },
     "execution_count": 20,
     "metadata": {},
     "output_type": "execute_result"
    }
   ],
   "source": [
    "# Personal + ICD-10 + Drugs + Clinic + Label\n",
    "\n",
    "df_final = df_personal_nodup.merge(df_icd10_nodup).merge(df_drug_nodup).merge(df_lab_nodup).merge(df_clinic_nodup).merge(df_doc_cc_nodup).merge(df_label_nodup)\n",
    "\n",
    "\n",
    "df_final.replace(\"ช\", 1, inplace=True)\n",
    "df_final.replace(\"ญ\", 0, inplace=True)\n",
    "\n",
    "\n",
    "X = df_personal_nodup.merge(df_icd10_nodup).merge(df_drug_nodup).merge(df_drug_detail_nodup).merge(\n",
    "    df_lab_nodup).merge(df_clinic_nodup).merge(df_doc_cc_nodup).merge(df_label_nodup)\n",
    "\n",
    "\n",
    "df_final.shape"
   ]
  },
  {
   "cell_type": "code",
   "execution_count": 21,
   "metadata": {},
   "outputs": [],
   "source": [
    "# df_final['DM_1'] = X.apply(lambda x: (x['Glucose'] >= 126 \n",
    "#                                or x['Glycohemoglobin (HbA1c)'] >= 6.5), \n",
    "#                    axis=1).astype(int)\n",
    "# df_final['DM_2'] = X.apply(lambda x: (x['E109'] == True or \n",
    "#                                x['E112'] == True or \n",
    "#                                x['E118'] == True or \n",
    "#                                x['E119'] == True or \n",
    "#                                x['E132'] == True),\n",
    "#                     axis=1).astype(int)\n",
    "# df_final['DM_3'] = X.apply(lambda x: (x['Glipizide'] == True or \n",
    "#                                x['Insulin, Insulin aspart, Insulin aspart protamine'] == True or\n",
    "#                                x['Insulin, Insulin lispro, Insulin lispro protamine'] == True or\n",
    "#                                x['Insulin, Regular insulin'] == True or\n",
    "#                                x['Metformin'] == True or \n",
    "#                                x['Sitagliptin'] == True or\n",
    "#                                x['Pioglitazone'] == True or\n",
    "#                                x['Alogliptin, Pioglitazone'] == True or\n",
    "#                                x['Empagliflozin'] == True or\n",
    "#                                x['Gliclazide'] == True or\n",
    "#                                x['Glipizide'] == True or\n",
    "#                                x['Teneligliptin'] == True),\n",
    "#                     axis=1).astype(int)\n",
    "# df_final['DM_4'] = X.apply(lambda x: (x['DM_1'] == True or\n",
    "#                                x['DM_2'] == True or\n",
    "#                                x['DM_3'] == True ),\n",
    "#                     axis=1).astype(int)"
   ]
  },
  {
   "cell_type": "markdown",
   "metadata": {},
   "source": [
    "# Classification"
   ]
  },
  {
   "cell_type": "markdown",
   "metadata": {},
   "source": [
    "# DM"
   ]
  },
  {
   "cell_type": "code",
   "execution_count": 22,
   "metadata": {},
   "outputs": [],
   "source": [
    "df_dm = df_final[df_final.columns[~df_final.columns.isin(['Subject_ID','HN'])]]\n",
    "\n",
    "df_dm['Glucose'] = np.where(df_final['Glucose'] >= 126, 1, 0)\n",
    "df_dm['Glycohemoglobin (HbA1c)'] = np.where(df_final['Glycohemoglobin (HbA1c)'] >= 6.5, 1, 0)\n",
    "df_dm['Age'] = np.where(df_final['AGE'] >= 35, 1, 0)\n",
    "df_dm['BMI'] = np.where(df_final['BMI'] >= 25, 1, 0)\n",
    "# df_dm['Sex'] = df_final['SEX_x']\n",
    "# df_dm['Temp'] = df_final['Temp']\n",
    "# df_dm['Pulse'] = df_final['Pulse']\n",
    "# df_dm['RR'] = df_final['RR']\n",
    "# df_dm['O2Sat'] = df_final['O2Sat']"
   ]
  },
  {
   "cell_type": "markdown",
   "metadata": {},
   "source": [
    "### XGBoost"
   ]
  },
  {
   "cell_type": "code",
   "execution_count": 23,
   "metadata": {
    "scrolled": true
   },
   "outputs": [
    {
     "name": "stdout",
     "output_type": "stream",
     "text": [
      "              precision    recall  f1-score   support\n",
      "\n",
      "           0       0.99      0.98      0.98        91\n",
      "           1       0.80      0.89      0.84         9\n",
      "\n",
      "    accuracy                           0.97       100\n",
      "   macro avg       0.89      0.93      0.91       100\n",
      "weighted avg       0.97      0.97      0.97       100\n",
      "\n"
     ]
    }
   ],
   "source": [
    "important_features = list(df_dm.columns)\n",
    "important_features.remove('DM_label')\n",
    "important_features.remove('HTN_label')\n",
    "important_features.remove('CKD_label')\n",
    "important_features.remove('DLP_label')\n",
    "\n",
    "train, test = train_test_split(df_dm, test_size = 0.25, random_state=111)\n",
    "\n",
    "ytrain = train['DM_label']\n",
    "ytest = test['DM_label']\n",
    "\n",
    "Xtrain = train[important_features]\n",
    "Xtest = test[important_features]\n",
    "\n",
    "xgb = XGBClassifier()\n",
    "\n",
    "parameters = {'scale_pos_weight': [9],\n",
    "                'n_estimators': [30, 100, 200],\n",
    "                'max_depth': [2, 3],\n",
    "                'min_child_weight': [1, 10, 100]\n",
    "             }\n",
    "clf = GridSearchCV(xgb, parameters, scoring='f1', cv=5)\n",
    "clf.fit(Xtrain,ytrain)\n",
    "\n",
    "xgb.set_params(**clf.best_params_)\n",
    "xgb.fit(Xtrain, ytrain)\n",
    "ypred = xgb.predict(Xtest)\n",
    "print(classification_report(ytest, ypred))"
   ]
  },
  {
   "cell_type": "code",
   "execution_count": 24,
   "metadata": {
    "scrolled": true
   },
   "outputs": [
    {
     "data": {
      "text/plain": [
       "Index(['SEX_x', 'AGE', 'E112', 'E118', 'E119', 'I10', 'FOLT01', 'SIAT01',\n",
       "       'Glycohemoglobin (HbA1c)', 'eGFR', 'Creatinine', 'BUN', 'Albumin',\n",
       "       'Triglyceride', 'LDL-c', 'Temp', 'Pulse', 'RR', 'O2Sat', 'Body Weight',\n",
       "       'Height', 'BMI', 'sbp', 'dbp', 'dm_key', 'ht_key', 'dlp_key'],\n",
       "      dtype='object')"
      ]
     },
     "execution_count": 24,
     "metadata": {},
     "output_type": "execute_result"
    }
   ],
   "source": [
    "# show the feature importances computed by xgboost\n",
    "Xtrain.columns[xgb.feature_importances_ != 0]"
   ]
  },
  {
   "cell_type": "markdown",
   "metadata": {},
   "source": [
    "# HTN"
   ]
  },
  {
   "cell_type": "code",
   "execution_count": 25,
   "metadata": {},
   "outputs": [],
   "source": [
    "df_htn = df_final[df_final.columns[~df_final.columns.isin(['Subject_ID','HN'])]]\n",
    "\n",
    "# df_htn['sBP'] = np.where(df_final['sbp'] >= 140, 1, 0)\n",
    "# df_htn['dBP'] = np.where(df_final['dbp'] >= 90, 1, 0)\n",
    "\n",
    "# df_htn['Age'] = np.where(df_final['AGE'] >= 60, 1, 0)\n",
    "# df_htn['BMI'] = np.where(df_final['BMI'] >= 25, 1, 0)\n",
    "# df_htn['Sex'] = df_final['SEX_x']\n",
    "# df_htn['Temp'] = df_final['Temp']\n",
    "# df_htn['Pulse'] = df_final['Pulse']\n",
    "# df_htn['RR'] = df_final['RR']\n",
    "# df_htn['O2Sat'] = df_final['O2Sat']"
   ]
  },
  {
   "cell_type": "markdown",
   "metadata": {},
   "source": [
    "### XGBoost"
   ]
  },
  {
   "cell_type": "code",
   "execution_count": 26,
   "metadata": {},
   "outputs": [
    {
     "name": "stdout",
     "output_type": "stream",
     "text": [
      "              precision    recall  f1-score   support\n",
      "\n",
      "           0       0.96      1.00      0.98        87\n",
      "           1       1.00      0.69      0.82        13\n",
      "\n",
      "    accuracy                           0.96       100\n",
      "   macro avg       0.98      0.85      0.90       100\n",
      "weighted avg       0.96      0.96      0.96       100\n",
      "\n"
     ]
    }
   ],
   "source": [
    "important_features = list(df_htn.columns)\n",
    "important_features.remove('DM_label')\n",
    "important_features.remove('HTN_label')\n",
    "important_features.remove('CKD_label')\n",
    "important_features.remove('DLP_label')\n",
    "\n",
    "train, test = train_test_split(df_htn, test_size = 0.25, random_state=111)\n",
    "\n",
    "ytrain = train['HTN_label']\n",
    "ytest = test['HTN_label']\n",
    "\n",
    "Xtrain = train[important_features]\n",
    "Xtest = test[important_features]\n",
    "\n",
    "xgb = XGBClassifier()\n",
    "\n",
    "parameters = {'scale_pos_weight': [9],\n",
    "                'n_estimators': [30, 100, 200],\n",
    "                'max_depth': [2, 3],\n",
    "                'min_child_weight': [1, 10, 100]\n",
    "             }\n",
    "clf = GridSearchCV(xgb, parameters, scoring='f1', cv=5)\n",
    "clf.fit(Xtrain,ytrain)\n",
    "\n",
    "xgb.set_params(**clf.best_params_)\n",
    "xgb.fit(Xtrain, ytrain)\n",
    "ypred = xgb.predict(Xtest)\n",
    "print(classification_report(ytest, ypred))"
   ]
  },
  {
   "cell_type": "code",
   "execution_count": 27,
   "metadata": {},
   "outputs": [
    {
     "data": {
      "text/plain": [
       "Index(['E119', 'I10', 'I482', 'EPOI00', 'HYPT00', 'LORT05', 'Glucose',\n",
       "       'Glycohemoglobin (HbA1c)', 'eGFR', 'BUN', 'Albumin', 'Cholesterol',\n",
       "       'LDL-c', 'Temp', 'Pulse', 'Body Weight', 'Height', 'BMI', 'sbp',\n",
       "       'ht_key', 'htn_key', 'dlp_key', 'esrd_key'],\n",
       "      dtype='object')"
      ]
     },
     "execution_count": 27,
     "metadata": {},
     "output_type": "execute_result"
    }
   ],
   "source": [
    "# show the feature importances computed by xgboost\n",
    "Xtrain.columns[xgb.feature_importances_ != 0]"
   ]
  },
  {
   "cell_type": "markdown",
   "metadata": {},
   "source": [
    "# CKD"
   ]
  },
  {
   "cell_type": "code",
   "execution_count": 28,
   "metadata": {},
   "outputs": [],
   "source": [
    "df_ckd = df_final[df_final.columns[~df_final.columns.isin(['Subject_ID','HN'])]]\n",
    "\n",
    "# df_ckd['eGFR'] = df_final['eGFR']\n",
    "# df_ckd['Creatinine'] = df_final['Creatinine']\n",
    "# df_ckd['BUN'] = df_final['BUN']\n",
    "# df_ckd['Albumin'] = df_final['Albumin']\n",
    "# df_ckd['Uric Acid'] = df_final['Uric Acid']\n",
    "# df_ckd['Total Protein'] = df_final['Total Protein']\n",
    "\n",
    "# df_ckd['Age'] = np.where(df_final['AGE'] >= 60, 1, 0)\n",
    "# df_ckd['BMI'] = df_final['BMI']\n",
    "# df_ckd['Sex'] = df_final['SEX_x']\n",
    "# df_ckd['Temp'] = df_final['Temp']\n",
    "# df_ckd['Pulse'] = df_final['Pulse']\n",
    "# df_ckd['RR'] = df_final['RR']\n",
    "# df_ckd['O2Sat'] = df_final['O2Sat']"
   ]
  },
  {
   "cell_type": "markdown",
   "metadata": {},
   "source": [
    "### XGBoost"
   ]
  },
  {
   "cell_type": "code",
   "execution_count": 29,
   "metadata": {},
   "outputs": [
    {
     "name": "stdout",
     "output_type": "stream",
     "text": [
      "              precision    recall  f1-score   support\n",
      "\n",
      "           0       1.00      1.00      1.00        96\n",
      "           1       1.00      1.00      1.00         4\n",
      "\n",
      "    accuracy                           1.00       100\n",
      "   macro avg       1.00      1.00      1.00       100\n",
      "weighted avg       1.00      1.00      1.00       100\n",
      "\n"
     ]
    }
   ],
   "source": [
    "important_features = list(df_ckd.columns)\n",
    "important_features.remove('DM_label')\n",
    "important_features.remove('HTN_label')\n",
    "important_features.remove('CKD_label')\n",
    "important_features.remove('DLP_label')\n",
    "\n",
    "train, test = train_test_split(df_ckd, test_size = 0.25, random_state=111)\n",
    "\n",
    "ytrain = train['CKD_label']\n",
    "ytest = test['CKD_label']\n",
    "\n",
    "Xtrain = train[important_features]\n",
    "Xtest = test[important_features]\n",
    "\n",
    "xgb = XGBClassifier()\n",
    "\n",
    "parameters = {'scale_pos_weight': [9],\n",
    "                'n_estimators': [30, 100, 200],\n",
    "                'max_depth': [2, 3],\n",
    "                'min_child_weight': [1, 10, 100]\n",
    "             }\n",
    "clf = GridSearchCV(xgb, parameters, scoring='f1', cv=5)\n",
    "clf.fit(Xtrain,ytrain)\n",
    "\n",
    "xgb.set_params(**clf.best_params_)\n",
    "xgb.fit(Xtrain, ytrain)\n",
    "ypred = xgb.predict(Xtest)\n",
    "print(classification_report(ytest, ypred))"
   ]
  },
  {
   "cell_type": "code",
   "execution_count": 30,
   "metadata": {},
   "outputs": [
    {
     "data": {
      "text/plain": [
       "Index(['D638', 'N832', 'FERT01', 'eGFR', 'Creatinine', 'BUN', 'Albumin',\n",
       "       'Pulse', 'Height', 'BMI', 'sbp', 'dbp', 'ckd_key'],\n",
       "      dtype='object')"
      ]
     },
     "execution_count": 30,
     "metadata": {},
     "output_type": "execute_result"
    }
   ],
   "source": [
    "# show the feature importances computed by xgboost\n",
    "Xtrain.columns[xgb.feature_importances_ != 0]"
   ]
  },
  {
   "cell_type": "markdown",
   "metadata": {},
   "source": [
    "# DLP"
   ]
  },
  {
   "cell_type": "code",
   "execution_count": 31,
   "metadata": {},
   "outputs": [],
   "source": [
    "df_dlp = df_final[df_final.columns[~df_final.columns.isin(['Subject_ID','HN'])]]\n",
    "\n",
    "# df_dlp['Cholesterol'] = np.where(df_final['Cholesterol'] >= 200, 1, 0)\n",
    "# df_dlp['Triglyceride'] = np.where(df_final['Triglyceride'] >= 150, 1, 0)\n",
    "# df_dlp['HDL-c'] = np.where(df_final['HDL-c'] <= 60, 1, 0)\n",
    "# df_dlp['LDL-c'] = np.where(df_final['LDL-c'] >= 130, 1, 0)\n",
    "\n",
    "# df_dlp['Age'] = np.where(df_final['AGE'] >= 55, 1, 0)\n",
    "# df_dlp['BMI'] = df_final['BMI']\n",
    "# df_dlp['Sex'] = df_final['SEX_x']\n",
    "# df_dlp['Temp'] = df_final['Temp']\n",
    "# df_dlp['Pulse'] = df_final['Pulse']\n",
    "# df_dlp['RR'] = df_final['RR']\n",
    "# df_dlp['O2Sat'] = df_final['O2Sat']"
   ]
  },
  {
   "cell_type": "markdown",
   "metadata": {},
   "source": [
    "### XGBoost"
   ]
  },
  {
   "cell_type": "code",
   "execution_count": 32,
   "metadata": {
    "scrolled": true
   },
   "outputs": [
    {
     "name": "stdout",
     "output_type": "stream",
     "text": [
      "              precision    recall  f1-score   support\n",
      "\n",
      "           0       0.97      0.98      0.97        91\n",
      "           1       0.75      0.67      0.71         9\n",
      "\n",
      "    accuracy                           0.95       100\n",
      "   macro avg       0.86      0.82      0.84       100\n",
      "weighted avg       0.95      0.95      0.95       100\n",
      "\n"
     ]
    }
   ],
   "source": [
    "important_features = list(df_dlp.columns)\n",
    "important_features.remove('DM_label')\n",
    "important_features.remove('HTN_label')\n",
    "important_features.remove('CKD_label')\n",
    "important_features.remove('DLP_label')\n",
    "\n",
    "train, test = train_test_split(df_dlp, test_size = 0.25, random_state=111)\n",
    "\n",
    "ytrain = train['DLP_label']\n",
    "ytest = test['DLP_label']\n",
    "\n",
    "Xtrain = train[important_features]\n",
    "Xtest = test[important_features]\n",
    "\n",
    "xgb = XGBClassifier()\n",
    "\n",
    "parameters = {'scale_pos_weight': [9],\n",
    "                'n_estimators': [30, 100, 200],\n",
    "                'max_depth': [2, 3],\n",
    "                'min_child_weight': [1, 10, 100]\n",
    "             }\n",
    "clf = GridSearchCV(xgb, parameters, scoring='f1', cv=5)\n",
    "clf.fit(Xtrain,ytrain)\n",
    "\n",
    "xgb.set_params(**clf.best_params_)\n",
    "xgb.fit(Xtrain, ytrain)\n",
    "ypred = xgb.predict(Xtest)\n",
    "print(classification_report(ytest, ypred))"
   ]
  },
  {
   "cell_type": "code",
   "execution_count": 33,
   "metadata": {},
   "outputs": [
    {
     "data": {
      "text/plain": [
       "Index(['SEX_x', 'AGE', 'E112', 'E785', 'I10', 'EUTT01', 'HYDT02', 'MADT03',\n",
       "       'VITT08', 'XART02', 'Glucose', 'eGFR', 'Cholesterol', 'HDL-c', 'LDL-c',\n",
       "       'Temp', 'Pulse', 'O2Sat', 'Body Weight', 'Height', 'BMI', 'sbp', 'dbp',\n",
       "       'dm_key', 'htn_key', 'dlp_key', 'hypertension_key', 'hypoglycemia_key'],\n",
       "      dtype='object')"
      ]
     },
     "execution_count": 33,
     "metadata": {},
     "output_type": "execute_result"
    }
   ],
   "source": [
    "# show the feature importances computed by xgboost\n",
    "Xtrain.columns[xgb.feature_importances_ != 0]"
   ]
  }
 ],
 "metadata": {
  "kernelspec": {
   "display_name": "Python 3",
   "language": "python",
   "name": "python3"
  },
  "language_info": {
   "codemirror_mode": {
    "name": "ipython",
    "version": 3
   },
   "file_extension": ".py",
   "mimetype": "text/x-python",
   "name": "python",
   "nbconvert_exporter": "python",
   "pygments_lexer": "ipython3",
   "version": "3.7.3"
  }
 },
 "nbformat": 4,
 "nbformat_minor": 2
}
